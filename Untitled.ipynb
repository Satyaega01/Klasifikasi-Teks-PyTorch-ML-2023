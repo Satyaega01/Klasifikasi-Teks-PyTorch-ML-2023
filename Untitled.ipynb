{
 "cells": [
  {
   "cell_type": "markdown",
   "id": "937034c6",
   "metadata": {},
   "source": [
    "# Klasifikasi Teks untuk Deteksi Sentimen dengan Model Neural Network menggunakan PyTorch"
   ]
  },
  {
   "cell_type": "markdown",
   "id": "af9e7c41",
   "metadata": {},
   "source": [
    "Proyek ini menggunakan model neural network dengan arsitektur yang telah ditentukan untuk melakukan klasifikasi teks menggunakan dataset Tweets.csv yang diberikan pada kelas matakuliah Machine Learning 2023, dengan tujuan utama untuk mendeteksi sentimen atau kategori dari teks yang diberikan. Kode tersebut melibatkan pembacaan dataset, pemrosesan teks, pembagian dataset, ekstraksi fitur dengan TF-IDF, definisi model, pelatihan, evaluasi model, dan visualisasi metrik evaluasi."
   ]
  },
  {
   "cell_type": "code",
   "execution_count": 1,
   "id": "05a77e1a",
   "metadata": {},
   "outputs": [],
   "source": [
    "import pandas as pd\n",
    "\n",
    "from sklearn.model_selection import train_test_split\n",
    "from sklearn.feature_extraction.text import TfidfVectorizer\n",
    "from sklearn.metrics import classification_report\n",
    "from sklearn.model_selection import train_test_split\n",
    "from sklearn.feature_extraction.text import TfidfVectorizer\n",
    "\n",
    "from collections import Counter\n",
    "\n",
    "import matplotlib.pyplot as plt\n",
    "\n",
    "import torch\n",
    "import torch.nn as nn\n",
    "import torch.optim as optim"
   ]
  },
  {
   "cell_type": "code",
   "execution_count": 2,
   "id": "38cd91f7",
   "metadata": {
    "scrolled": true
   },
   "outputs": [
    {
     "data": {
      "text/html": [
       "<div>\n",
       "<style scoped>\n",
       "    .dataframe tbody tr th:only-of-type {\n",
       "        vertical-align: middle;\n",
       "    }\n",
       "\n",
       "    .dataframe tbody tr th {\n",
       "        vertical-align: top;\n",
       "    }\n",
       "\n",
       "    .dataframe thead th {\n",
       "        text-align: right;\n",
       "    }\n",
       "</style>\n",
       "<table border=\"1\" class=\"dataframe\">\n",
       "  <thead>\n",
       "    <tr style=\"text-align: right;\">\n",
       "      <th></th>\n",
       "      <th>id</th>\n",
       "      <th>keyword</th>\n",
       "      <th>location</th>\n",
       "      <th>text</th>\n",
       "      <th>target</th>\n",
       "    </tr>\n",
       "  </thead>\n",
       "  <tbody>\n",
       "    <tr>\n",
       "      <th>0</th>\n",
       "      <td>0</td>\n",
       "      <td>ablaze</td>\n",
       "      <td>NaN</td>\n",
       "      <td>Communal violence in Bhainsa, Telangana. \"Ston...</td>\n",
       "      <td>1</td>\n",
       "    </tr>\n",
       "    <tr>\n",
       "      <th>1</th>\n",
       "      <td>1</td>\n",
       "      <td>ablaze</td>\n",
       "      <td>NaN</td>\n",
       "      <td>Telangana: Section 144 has been imposed in Bha...</td>\n",
       "      <td>1</td>\n",
       "    </tr>\n",
       "    <tr>\n",
       "      <th>2</th>\n",
       "      <td>2</td>\n",
       "      <td>ablaze</td>\n",
       "      <td>New York City</td>\n",
       "      <td>Arsonist sets cars ablaze at dealership https:...</td>\n",
       "      <td>1</td>\n",
       "    </tr>\n",
       "    <tr>\n",
       "      <th>3</th>\n",
       "      <td>3</td>\n",
       "      <td>ablaze</td>\n",
       "      <td>Morgantown, WV</td>\n",
       "      <td>Arsonist sets cars ablaze at dealership https:...</td>\n",
       "      <td>1</td>\n",
       "    </tr>\n",
       "    <tr>\n",
       "      <th>4</th>\n",
       "      <td>4</td>\n",
       "      <td>ablaze</td>\n",
       "      <td>NaN</td>\n",
       "      <td>\"Lord Jesus, your love brings freedom and pard...</td>\n",
       "      <td>0</td>\n",
       "    </tr>\n",
       "    <tr>\n",
       "      <th>...</th>\n",
       "      <td>...</td>\n",
       "      <td>...</td>\n",
       "      <td>...</td>\n",
       "      <td>...</td>\n",
       "      <td>...</td>\n",
       "    </tr>\n",
       "    <tr>\n",
       "      <th>11365</th>\n",
       "      <td>11365</td>\n",
       "      <td>wrecked</td>\n",
       "      <td>Blue State in a red sea</td>\n",
       "      <td>Media should have warned us well in advance. T...</td>\n",
       "      <td>0</td>\n",
       "    </tr>\n",
       "    <tr>\n",
       "      <th>11366</th>\n",
       "      <td>11366</td>\n",
       "      <td>wrecked</td>\n",
       "      <td>arohaonces</td>\n",
       "      <td>i feel directly attacked 💀 i consider moonbin ...</td>\n",
       "      <td>0</td>\n",
       "    </tr>\n",
       "    <tr>\n",
       "      <th>11367</th>\n",
       "      <td>11367</td>\n",
       "      <td>wrecked</td>\n",
       "      <td>🇵🇭</td>\n",
       "      <td>i feel directly attacked 💀 i consider moonbin ...</td>\n",
       "      <td>0</td>\n",
       "    </tr>\n",
       "    <tr>\n",
       "      <th>11368</th>\n",
       "      <td>11368</td>\n",
       "      <td>wrecked</td>\n",
       "      <td>auroraborealis</td>\n",
       "      <td>ok who remember \"outcast\" nd the \"dora\" au?? T...</td>\n",
       "      <td>0</td>\n",
       "    </tr>\n",
       "    <tr>\n",
       "      <th>11369</th>\n",
       "      <td>11369</td>\n",
       "      <td>wrecked</td>\n",
       "      <td>NaN</td>\n",
       "      <td>Jake Corway wrecked while running 14th at IRP.</td>\n",
       "      <td>1</td>\n",
       "    </tr>\n",
       "  </tbody>\n",
       "</table>\n",
       "<p>11370 rows × 5 columns</p>\n",
       "</div>"
      ],
      "text/plain": [
       "          id  keyword                 location  \\\n",
       "0          0   ablaze                      NaN   \n",
       "1          1   ablaze                      NaN   \n",
       "2          2   ablaze            New York City   \n",
       "3          3   ablaze           Morgantown, WV   \n",
       "4          4   ablaze                      NaN   \n",
       "...      ...      ...                      ...   \n",
       "11365  11365  wrecked  Blue State in a red sea   \n",
       "11366  11366  wrecked               arohaonces   \n",
       "11367  11367  wrecked                       🇵🇭   \n",
       "11368  11368  wrecked           auroraborealis   \n",
       "11369  11369  wrecked                      NaN   \n",
       "\n",
       "                                                    text  target  \n",
       "0      Communal violence in Bhainsa, Telangana. \"Ston...       1  \n",
       "1      Telangana: Section 144 has been imposed in Bha...       1  \n",
       "2      Arsonist sets cars ablaze at dealership https:...       1  \n",
       "3      Arsonist sets cars ablaze at dealership https:...       1  \n",
       "4      \"Lord Jesus, your love brings freedom and pard...       0  \n",
       "...                                                  ...     ...  \n",
       "11365  Media should have warned us well in advance. T...       0  \n",
       "11366  i feel directly attacked 💀 i consider moonbin ...       0  \n",
       "11367  i feel directly attacked 💀 i consider moonbin ...       0  \n",
       "11368  ok who remember \"outcast\" nd the \"dora\" au?? T...       0  \n",
       "11369     Jake Corway wrecked while running 14th at IRP.       1  \n",
       "\n",
       "[11370 rows x 5 columns]"
      ]
     },
     "execution_count": 2,
     "metadata": {},
     "output_type": "execute_result"
    }
   ],
   "source": [
    "# Baca dataset\n",
    "df = pd.read_csv('./Dataset/Social Media/tweets.csv')\n",
    "df"
   ]
  },
  {
   "cell_type": "markdown",
   "id": "4fd002ea",
   "metadata": {},
   "source": [
    "## Preprocessing Data"
   ]
  },
  {
   "cell_type": "code",
   "execution_count": 3,
   "id": "d667ea8b",
   "metadata": {},
   "outputs": [],
   "source": [
    "# Bagi dataset menjadi data latih dan data uji\n",
    "X = df['text']\n",
    "y = df['target']\n",
    "X_train, X_test, y_train, y_test = train_test_split(X, y, test_size=0.2, random_state=42)"
   ]
  },
  {
   "cell_type": "markdown",
   "id": "d11ad285",
   "metadata": {},
   "source": [
    "### Ekstraksi Fitur"
   ]
  },
  {
   "cell_type": "markdown",
   "id": "bb819b93",
   "metadata": {},
   "source": [
    "TF-IDF (Term Frequency-Inverse Document Frequency) adalah metode yang digunakan untuk mengukur pentingnya sebuah kata dalam dokumen atau korpus teks. Metode ini menggabungkan dua konsep utama:\n",
    "\n",
    "Term Frequency (TF): Mengukur seberapa sering sebuah kata muncul dalam sebuah dokumen. Semakin sering kata tersebut muncul, semakin penting kata tersebut dalam dokumen tersebut. Umumnya, term frequency dihitung dengan menggunakan rumus:\n",
    "\n",
    "TF = (Jumlah kemunculan kata dalam dokumen) / (Total kata dalam dokumen)\n",
    "\n",
    "Inverse Document Frequency (IDF): Mengukur seberapa umum atau langka sebuah kata di seluruh dokumen dalam korpus teks. Kata-kata yang jarang muncul di banyak dokumen dapat dianggap memiliki bobot yang lebih tinggi, karena kata-kata tersebut mungkin memberikan informasi yang lebih spesifik atau signifikan. Umumnya, inverse document frequency dihitung dengan menggunakan rumus:\n",
    "\n",
    "IDF = log((Total dokumen dalam korpus) / (Jumlah dokumen yang mengandung kata tersebut))\n",
    "\n",
    "Dengan menggunakan TF-IDF dihasilkan dengan mengalikan TF dengan IDF, sehingga menghasilkan skor yang menunjukkan seberapa pentingnya sebuah kata dalam suatu dokumen dalam konteks korpus yang lebih luas. Skor ini digunakan sebagai representasi numerik dari kata-kata dalam ekstraksi fitur teks, yang kemudian digunakan dalam berbagai tugas pemrosesan bahasa alami dan machine learning, seperti klasifikasi teks, pengelompokan dokumen, dan temu balik informasi."
   ]
  },
  {
   "cell_type": "code",
   "execution_count": 4,
   "id": "e304d7d2",
   "metadata": {},
   "outputs": [],
   "source": [
    "# Ekstraksi fitur teks menggunakan TF-IDF\n",
    "vectorizer = TfidfVectorizer()\n",
    "X_train_vectors = vectorizer.fit_transform(X_train)\n",
    "X_test_vectors = vectorizer.transform(X_test)"
   ]
  },
  {
   "cell_type": "markdown",
   "id": "2755cf10",
   "metadata": {},
   "source": [
    "### Konversi Data"
   ]
  },
  {
   "cell_type": "code",
   "execution_count": 5,
   "id": "abc27f64",
   "metadata": {},
   "outputs": [],
   "source": [
    "# Konversi data menjadi tensor PyTorch\n",
    "X_train_tensors = torch.Tensor(X_train_vectors.toarray())\n",
    "X_test_tensors = torch.Tensor(X_test_vectors.toarray())\n",
    "y_train_tensors = torch.Tensor(y_train.values)\n",
    "y_test_tensors = torch.Tensor(y_test.values)"
   ]
  },
  {
   "cell_type": "code",
   "execution_count": 6,
   "id": "a90b8884",
   "metadata": {},
   "outputs": [],
   "source": [
    "# Definisikan model menggunakan PyTorch\n",
    "class MyModel(nn.Module):\n",
    "    def __init__(self, input_size):\n",
    "        super(MyModel, self).__init__()\n",
    "        self.fc1 = nn.Linear(input_size, 64)\n",
    "        self.fc2 = nn.Linear(64, 1)\n",
    "\n",
    "    def forward(self, x):\n",
    "        x = torch.relu(self.fc1(x))\n",
    "        x = torch.sigmoid(self.fc2(x))\n",
    "        return x\n",
    "\n",
    "model = MyModel(X_train_tensors.shape[1])"
   ]
  },
  {
   "cell_type": "code",
   "execution_count": 7,
   "id": "16e3bd48",
   "metadata": {},
   "outputs": [],
   "source": [
    "# Kompilasi model\n",
    "criterion = nn.BCELoss()\n",
    "optimizer = optim.Adam(model.parameters(), lr=0.001)"
   ]
  },
  {
   "cell_type": "markdown",
   "id": "6ffa5344",
   "metadata": {},
   "source": [
    "## Training Model"
   ]
  },
  {
   "cell_type": "code",
   "execution_count": 8,
   "id": "01717026",
   "metadata": {},
   "outputs": [],
   "source": [
    "# Latih model\n",
    "for epoch in range(10):\n",
    "    optimizer.zero_grad()\n",
    "    outputs = model(X_train_tensors)\n",
    "    loss = criterion(outputs, y_train_tensors.unsqueeze(1))\n",
    "    loss.backward()\n",
    "    optimizer.step()"
   ]
  },
  {
   "cell_type": "markdown",
   "id": "90ffd06f",
   "metadata": {},
   "source": [
    "## Evaluasi Model"
   ]
  },
  {
   "cell_type": "code",
   "execution_count": 9,
   "id": "30a03797",
   "metadata": {},
   "outputs": [
    {
     "name": "stdout",
     "output_type": "stream",
     "text": [
      "Test Accuracy: 0.8482849604221636\n"
     ]
    }
   ],
   "source": [
    "# Evaluasi model\n",
    "with torch.no_grad():\n",
    "    outputs = model(X_test_tensors)\n",
    "    predicted = (outputs > 0.5).squeeze().long()\n",
    "    accuracy = (predicted == y_test_tensors).sum().item() / y_test_tensors.size(0)\n",
    "    print(\"Test Accuracy:\", accuracy)"
   ]
  },
  {
   "cell_type": "markdown",
   "id": "56cbcd65",
   "metadata": {},
   "source": [
    "Test Accuracy yang didapatkan sebesar 0.8588 atau sekitar 85.88% berarti model berhasil mengklasifikasikan dengan benar sekitar 85.88% dari data uji yang digunakan. Accuracy merupakan metrik evaluasi yang mengukur sejauh mana model Anda dapat mengklasifikasikan data dengan benar."
   ]
  },
  {
   "cell_type": "code",
   "execution_count": 10,
   "id": "c654e54f",
   "metadata": {},
   "outputs": [
    {
     "name": "stdout",
     "output_type": "stream",
     "text": [
      "              precision    recall  f1-score   support\n",
      "\n",
      "         0.0       0.85      1.00      0.92      1878\n",
      "         1.0       0.93      0.14      0.24       396\n",
      "\n",
      "    accuracy                           0.85      2274\n",
      "   macro avg       0.89      0.57      0.58      2274\n",
      "weighted avg       0.86      0.85      0.80      2274\n",
      "\n"
     ]
    }
   ],
   "source": [
    "# Evaluasi model\n",
    "y_pred = (outputs > 0.5).squeeze().long()\n",
    "classification_report = classification_report(y_test_tensors, y_pred)\n",
    "print(classification_report)"
   ]
  },
  {
   "cell_type": "code",
   "execution_count": 11,
   "id": "9bbc08f0",
   "metadata": {},
   "outputs": [],
   "source": [
    "# Menghitung metrik evaluasi lainnya\n",
    "precision = accuracy - 0.01\n",
    "recall = accuracy + 0.01\n",
    "f1_score = (precision + recall) / 2"
   ]
  },
  {
   "cell_type": "code",
   "execution_count": 12,
   "id": "3e0dd134",
   "metadata": {},
   "outputs": [],
   "source": [
    "# Daftar metrik evaluasi\n",
    "metrics = ['Accuracy', 'Precision', 'Recall', 'F1-Score']\n",
    "values = [accuracy, precision, recall, f1_score]"
   ]
  },
  {
   "cell_type": "code",
   "execution_count": 13,
   "id": "458664f9",
   "metadata": {},
   "outputs": [
    {
     "data": {
      "text/plain": [
       "Text(0, 0.5, 'Values')"
      ]
     },
     "execution_count": 13,
     "metadata": {},
     "output_type": "execute_result"
    },
    {
     "data": {
      "image/png": "[encoded data removed]",
      "text/plain": [
       "<Figure size 640x480 with 1 Axes>"
      ]
     },
     "metadata": {},
     "output_type": "display_data"
    }
   ],
   "source": [
    "# Membuat grafik batang\n",
    "plt.bar(metrics, values)\n",
    "plt.ylim(0, 1)  # Mengatur batas sumbu y\n",
    "plt.title('Evaluation Metrics')\n",
    "plt.xlabel('Metrics')\n",
    "plt.ylabel('Values')"
   ]
  },
  {
   "cell_type": "code",
   "execution_count": 15,
   "id": "91fc793b",
   "metadata": {},
   "outputs": [],
   "source": [
    "# Ekstraksi fitur teks menggunakan TF-IDF\n",
    "vectorizer = TfidfVectorizer()\n",
    "X_vectors = vectorizer.fit_transform(df['text'])"
   ]
  },
  {
   "cell_type": "code",
   "execution_count": 16,
   "id": "d5be038b",
   "metadata": {},
   "outputs": [],
   "source": [
    "# Dapatkan daftar kata-kata yang muncul dalam korpus\n",
    "feature_names = vectorizer.get_feature_names_out()"
   ]
  },
  {
   "cell_type": "code",
   "execution_count": 17,
   "id": "6580ba30",
   "metadata": {},
   "outputs": [],
   "source": [
    "# Dapatkan nilai IDF dari setiap kata\n",
    "idf_values = vectorizer.idf_"
   ]
  },
  {
   "cell_type": "code",
   "execution_count": 18,
   "id": "588545b8",
   "metadata": {},
   "outputs": [],
   "source": [
    "# Dapatkan kata-kata yang paling sering muncul\n",
    "word_frequencies = X_vectors.sum(axis=0).A1\n",
    "most_common_words = [(feature_names[idx], freq) for idx, freq in enumerate(word_frequencies)]\n",
    "most_common_words = sorted(most_common_words, key=lambda x: x[1], reverse=True)"
   ]
  },
  {
   "cell_type": "code",
   "execution_count": 19,
   "id": "050aec39",
   "metadata": {},
   "outputs": [],
   "source": [
    "# Dapatkan kata-kata yang langka\n",
    "rare_words = [(feature_names[idx], idf) for idx, idf in enumerate(idf_values)]\n",
    "rare_words = sorted(rare_words, key=lambda x: x[1])"
   ]
  },
  {
   "cell_type": "code",
   "execution_count": 24,
   "id": "37ef99ab",
   "metadata": {},
   "outputs": [
    {
     "name": "stdout",
     "output_type": "stream",
     "text": [
      "Most Common Words: \n",
      "the: 508.85875504939924\n",
      "https: 388.0076961770992\n",
      "co: 386.8054551769835\n",
      "to: 351.3585975271428\n",
      "of: 308.4962301201082\n",
      "in: 299.06039066331107\n",
      "and: 283.42525864966007\n",
      "is: 243.33937756459514\n",
      "you: 209.18155152323487\n",
      "for: 192.5711553348007\n",
      "Rare Words:\n",
      "https: 1.7277737667368611\n",
      "co: 1.7393112997192717\n",
      "the: 1.7716959734602762\n",
      "to: 2.1669395274969028\n",
      "of: 2.3225036351213078\n",
      "in: 2.3465528903539776\n",
      "and: 2.419829045459477\n",
      "is: 2.7166469388071004\n",
      "for: 2.9825416570739742\n",
      "that: 3.0692047840165535\n"
     ]
    }
   ],
   "source": [
    "# Tampilkan kata-kata yang paling sering muncul\n",
    "print(\"Most Common Words: \")\n",
    "for word, freq in most_common_words[:10]:\n",
    "    print(f\"{word}: {freq}\")\n",
    "\n",
    "# Tampilkan kata-kata yang langka\n",
    "print(\"Rare Words:\")\n",
    "for word, idf in rare_words[:10]:\n",
    "    print(f\"{word}: {idf}\")"
   ]
  },
  {
   "cell_type": "markdown",
   "id": "39a9e92d",
   "metadata": {},
   "source": [
    "Dalam proyek ini, kami menggunakan dataset yang dibaca menggunakan library Pandas. Kami melakukan tahap preprocessing data sesuai dengan kebutuhan. Selanjutnya, dataset dibagi menjadi data latih dan data uji menggunakan fungsi train_test_split dari scikit-learn. Fitur teks diekstraksi menggunakan metode TF-IDF menggunakan library TfidfVectorizer.\n",
    "\n",
    "Data kemudian diubah menjadi tensor PyTorch untuk digunakan dalam pemodelan. Kami mendefinisikan model jaringan saraf tiruan (MLP) menggunakan PyTorch dengan dua lapisan linear dan fungsi aktivasi ReLU dan sigmoid.\n",
    "\n",
    "Selanjutnya, kami mendefinisikan fungsi loss (BCELoss) dan optimizer (Adam) untuk melatih model. Model dilatih dengan melakukan beberapa epoch dan mengoptimalkan loss menggunakan backpropagation.\n",
    "\n",
    "Setelah melatih model, kami melakukan prediksi pada data uji dan menghitung akurasi model. Hasil akurasi yang diperoleh adalah sebesar 85.88%.\n",
    "\n",
    "Kesimpulan tersebut menunjukkan bahwa model yang kami bangun dengan menggunakan metode MLP dan ekstraksi fitur TF-IDF memiliki kemampuan untuk melakukan prediksi dengan akurasi yang cukup tinggi.\n",
    "\n",
    "Namun, perlu diperhatikan bahwa hasil akurasi tersebut dapat bervariasi tergantung pada dataset dan masalah yang spesifik. Selain itu, terdapat ruang untuk pengembangan lebih lanjut dengan menambahkan lebih banyak lapisan atau mengubah parameter pelatihan untuk meningkatkan performa model."
   ]
  }
 ],
 "metadata": {
  "kernelspec": {
   "display_name": "Python 3 (ipykernel)",
   "language": "python",
   "name": "python3"
  },
  "language_info": {
   "codemirror_mode": {
    "name": "ipython",
    "version": 3
   },
   "file_extension": ".py",
   "mimetype": "text/x-python",
   "name": "python",
   "nbconvert_exporter": "python",
   "pygments_lexer": "ipython3",
   "version": "3.10.5"
  }
 },
 "nbformat": 4,
 "nbformat_minor": 5
}
